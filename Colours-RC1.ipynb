{
 "cells": [
  {
   "cell_type": "code",
   "execution_count": 107,
   "metadata": {
    "collapsed": true
   },
   "outputs": [],
   "source": [
    "'''Author: Steve Walesch\n",
    "Copyright: Copyright (C) 2017 Steve Walesch\n",
    "License: Creative Commons Attribution-NonCommercial 4.0 International (CC BY-NC 4.0)\n",
    "Version: 1.0 RC1'''\n",
    "\n",
    "from ipywidgets import interact, interactive, fixed, interact_manual, FloatSlider\n",
    "import ipywidgets as widgets\n",
    "import numpy as np\n",
    "import math\n",
    "from ipythonblocks import show_color"
   ]
  },
  {
   "cell_type": "code",
   "execution_count": 108,
   "metadata": {
    "collapsed": true
   },
   "outputs": [],
   "source": [
    "def name_this_colour(Hue, Saturation, Lightness):\n",
    "\n",
    "    # hue name\n",
    "    hues = {0: 'red',\n",
    "     15: 'red-orange',\n",
    "     30: 'orange',\n",
    "     45: 'orange-yellow',\n",
    "     60: 'yellow',\n",
    "     75: 'yellow-chartreuse',\n",
    "     90: 'chartreuse',\n",
    "     105: 'chatreuse-green',\n",
    "     120: 'green',\n",
    "     135: 'green-jade',\n",
    "     150: 'jade',\n",
    "     165: 'jade-cyan',\n",
    "     180: 'cyan',\n",
    "     195: 'cyan-azure',\n",
    "     210: 'azure',\n",
    "     225: 'azure-blue',\n",
    "     240: 'blue',\n",
    "     255: 'blue-violet',\n",
    "     270: 'violet',\n",
    "     285: 'violet-magenta',\n",
    "     300: 'magenta',\n",
    "     315: 'magenta-rose',\n",
    "     330: 'rose',\n",
    "     345: 'rose-red',\n",
    "     360: 'red'}\n",
    "\n",
    "    Hue_for_dict = min(hues, key=lambda x:abs(x-Hue))\n",
    "    Hue_name = hues[Hue_for_dict]\n",
    "\n",
    "    Saturation_dict = {0.10: 'grayish', 0.30: 'desaturated', 0.50: 'muted', 0.70: 'saturated', 0.90: 'vivid'}\n",
    "    Saturation_for_dict = min(Saturation_dict, key=lambda x:abs(x-Saturation))\n",
    "    Saturation_name = Saturation_dict[Saturation_for_dict]\n",
    "\n",
    "    Lightness_dict = {0.10: 'and very dark', 0.30: 'dark', 0.50: '', 0.70001: 'light', 0.90001: 'and very light'}\n",
    "    Lightness_for_dict = min(Lightness_dict, key=lambda x:abs(x-Lightness))\n",
    "    Lightness_name = Lightness_dict[Lightness_for_dict]\n",
    "\n",
    "    Colour_name = ''\n",
    "    if Saturation == 0:\n",
    "\n",
    "        if Lightness != 0 and Lightness !=1:\n",
    "\n",
    "            if Lightness <= 0.20:\n",
    "                Colour_name = 'very dark gray'\n",
    "            elif Lightness > 0.20 and Lightness <= 0.40:\n",
    "                Colour_name = 'dark gray'\n",
    "            elif Lightness > 0.60 and Lightness <= 0.80:\n",
    "                Colour_name = 'light gray'\n",
    "            elif Lightness > 0.80 and Lightness <= 1.00:\n",
    "                Colour_name = 'very light gray'\n",
    "            else:\n",
    "                Colour_name = 'medium gray'\n",
    "        elif Lightness == 0:\n",
    "                Colour_name = 'black'\n",
    "        elif Lightness == 1:\n",
    "                Colour_name = 'white'\n",
    "    else:\n",
    "        Colour_name = \"%s %s %s\" %(Saturation_name, Lightness_name, Hue_name)\n",
    "    return Colour_name"
   ]
  },
  {
   "cell_type": "code",
   "execution_count": 109,
   "metadata": {
    "collapsed": true
   },
   "outputs": [],
   "source": [
    "def from_RGB(Red, Green, Blue):\n",
    "\n",
    "    rgb_255 = np.array([Red,Green,Blue])\n",
    "    rgb_percent = rgb_255 / 255\n",
    "    diff = np.max(rgb_percent)-np.min(rgb_percent)\n",
    "    red_pc = rgb_percent[0]\n",
    "    green_pc = rgb_percent[1]\n",
    "    blue_pc = rgb_percent[2]\n",
    "\n",
    "    # calculate chromaticness, whiteness and blackness\n",
    "    Chromaticness = np.max(rgb_percent) - np.min(rgb_percent)\n",
    "    Whiteness = np.max(rgb_percent) - Chromaticness\n",
    "    Blackness = 1 - Chromaticness - Whiteness\n",
    "    print(\"Chromaticness: %.2f%%, Whiteness: %.2f%%, Blackness: %.2f%%\" % (Chromaticness*100, Whiteness*100, Blackness*100))\n",
    "    \n",
    "    # calculate Hue, Saturation and Lightness\n",
    "    if np.max(rgb_percent) == np.min(rgb_percent):\n",
    "        Hue = 0\n",
    "    elif np.max(rgb_percent) == red_pc:\n",
    "        Hue = (60 * ((green_pc-blue_pc)/diff) + 360) % 360\n",
    "    elif np.max(rgb_percent) == green_pc:\n",
    "        Hue = (60 * ((blue_pc-red_pc)/diff) + 120) % 360\n",
    "    elif np.max(rgb_percent) == blue_pc:\n",
    "        Hue = (60 * ((red_pc-green_pc)/diff) + 240) % 360\n",
    "        \n",
    "    Lightness = Whiteness + Chromaticness/2\n",
    "    Saturation = Chromaticness\n",
    "    \n",
    "    print(\"Hue: %.2f, Saturation: %.2f%%, Lightness: %.2f%%\" % (Hue, Saturation*100, Lightness*100))\n",
    "    # Visualize the colour\n",
    "    show_color(Red, Green, Blue)\n",
    "    \n",
    "    # Name the colour\n",
    "    print(\"This colour is named: %s\" % (name_this_colour(Hue,Saturation,Lightness)))\n",
    "    return None"
   ]
  },
  {
   "cell_type": "code",
   "execution_count": 110,
   "metadata": {
    "collapsed": true
   },
   "outputs": [],
   "source": [
    "# this function gives the RGB values for 'pure colours'. it is a helper function that's used in the chsl2rgb function\n",
    "def pure_hue(hue):\n",
    "    hue = hue % 1.0\n",
    "    if hue < 1/6:\n",
    "        return hue*6.0\n",
    "    if hue < 0.5:\n",
    "        return 1\n",
    "    if hue < 2/3:\n",
    "        return (2/3-hue)*6.0\n",
    "    return 0"
   ]
  },
  {
   "cell_type": "code",
   "execution_count": 111,
   "metadata": {
    "collapsed": true
   },
   "outputs": [],
   "source": [
    "# define widgets with constraints for the following interaction\n",
    "saturation_widget = FloatSlider(min=0.0, max=1.0, step=0.01)\n",
    "lightness_widget = FloatSlider(min=0.0, max=1.0, step=0.01)\n",
    "\n",
    "def update_lightness_range(*args):\n",
    "    lightness_widget.min = 0.5 * saturation_widget.value\n",
    "    lightness_widget.max = 1 - 0.5 * saturation_widget.value\n",
    "saturation_widget.observe(update_lightness_range, 'value')"
   ]
  },
  {
   "cell_type": "code",
   "execution_count": 112,
   "metadata": {
    "collapsed": true
   },
   "outputs": [],
   "source": [
    "def to_RGB(Hue,Saturation,Lightness):\n",
    "    r,g,b = (pure_hue(Hue/360+1/3)*255, pure_hue(Hue/360)*255, pure_hue(Hue/360-1/3)*255)\n",
    "    #print(\"RGB values for fully saturated colour:\", int(r),int(g),int(b))\n",
    "    \n",
    "    Chromaticness = Saturation\n",
    "    Whiteness = Lightness - Saturation/2\n",
    "    Blackness = 1 - Whiteness - Chromaticness\n",
    "    print(\"Chromaticness: %.2f%%, Whiteness: %.2f%%, Blackness: %.2f%%\" % (Chromaticness*100, Whiteness*100, Blackness*100))\n",
    "    \n",
    "    Red = int(r*Saturation + Whiteness * 255)\n",
    "    Green = int(g*Saturation + Whiteness * 255)\n",
    "    Blue = int(b*Saturation + Whiteness * 255)\n",
    "    print(\"RGB values: Red: %s, Green: %s, Blue: %s\" % (Red, Green, Blue))\n",
    "    show_color(Red, Green, Blue)\n",
    "    print(\"This colour is named: %s\" % (name_this_colour(Hue,Saturation,Lightness)))\n",
    "    return None"
   ]
  },
  {
   "cell_type": "code",
   "execution_count": 113,
   "metadata": {},
   "outputs": [
    {
     "name": "stdout",
     "output_type": "stream",
     "text": [
      "Chromaticness: 0.00%, Whiteness: 0.00%, Blackness: 100.00%\n",
      "RGB values: Red: 0, Green: 0, Blue: 0\n"
     ]
    },
    {
     "data": {
      "text/html": [
       "<div style=\"height: 60px; min-width: 200px; background-color: rgb(0, 0, 0)\"></div>"
      ],
      "text/plain": [
       "<IPython.core.display.HTML object>"
      ]
     },
     "metadata": {},
     "output_type": "display_data"
    },
    {
     "name": "stdout",
     "output_type": "stream",
     "text": [
      "This colour is named: black\n"
     ]
    }
   ],
   "source": [
    "interact(to_RGB, Hue=(0,360,1), Saturation=saturation_widget, Lightness=lightness_widget); "
   ]
  },
  {
   "cell_type": "code",
   "execution_count": 114,
   "metadata": {},
   "outputs": [
    {
     "name": "stdout",
     "output_type": "stream",
     "text": [
      "Chromaticness: 0.00%, Whiteness: 49.80%, Blackness: 50.20%\n",
      "Hue: 0.00, Saturation: 0.00%, Lightness: 49.80%\n"
     ]
    },
    {
     "data": {
      "text/html": [
       "<div style=\"height: 60px; min-width: 200px; background-color: rgb(127, 127, 127)\"></div>"
      ],
      "text/plain": [
       "<IPython.core.display.HTML object>"
      ]
     },
     "metadata": {},
     "output_type": "display_data"
    },
    {
     "name": "stdout",
     "output_type": "stream",
     "text": [
      "This colour is named: medium gray\n"
     ]
    },
    {
     "data": {
      "text/plain": [
       "<function __main__.from_RGB>"
      ]
     },
     "execution_count": 114,
     "metadata": {},
     "output_type": "execute_result"
    }
   ],
   "source": [
    "interact(from_RGB, Red=(0,255,1), Green=(0,255,1), Blue=(0,255,1))"
   ]
  }
 ],
 "metadata": {
  "anaconda-cloud": {},
  "kernelspec": {
   "display_name": "Python [default]",
   "language": "python",
   "name": "python3"
  },
  "language_info": {
   "codemirror_mode": {
    "name": "ipython",
    "version": 3
   },
   "file_extension": ".py",
   "mimetype": "text/x-python",
   "name": "python",
   "nbconvert_exporter": "python",
   "pygments_lexer": "ipython3",
   "version": "3.5.2"
  },
  "widgets": {
   "state": {
    "22bf02a5f795408c8dd3dc69d0708c48": {
     "views": [
      {
       "cell_index": 7
      }
     ]
    },
    "29f8684bac8248938da5b2cc9f934af3": {
     "views": [
      {
       "cell_index": 7
      }
     ]
    },
    "d834527b04a84328adfcae9dd84a900b": {
     "views": [
      {
       "cell_index": 6
      }
     ]
    }
   },
   "version": "1.2.0"
  }
 },
 "nbformat": 4,
 "nbformat_minor": 2
}
